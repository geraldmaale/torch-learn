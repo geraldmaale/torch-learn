{
 "cells": [
  {
   "cell_type": "code",
   "execution_count": 1,
   "metadata": {},
   "outputs": [],
   "source": [
    "import torch\n",
    "import torch.nn as nn\n",
    "import matplotlib.pyplot as plt"
   ]
  },
  {
   "cell_type": "code",
   "execution_count": 2,
   "metadata": {},
   "outputs": [
    {
     "name": "stdout",
     "output_type": "stream",
     "text": [
      "1.12.1+cu116\n"
     ]
    }
   ],
   "source": [
    "print(torch.__version__)"
   ]
  },
  {
   "cell_type": "code",
   "execution_count": 3,
   "metadata": {},
   "outputs": [
    {
     "data": {
      "text/plain": [
       "tensor(5)"
      ]
     },
     "execution_count": 3,
     "metadata": {},
     "output_type": "execute_result"
    }
   ],
   "source": [
    "scalar =  torch.tensor(5)\n",
    "scalar"
   ]
  },
  {
   "cell_type": "code",
   "execution_count": 4,
   "metadata": {},
   "outputs": [
    {
     "data": {
      "text/plain": [
       "0"
      ]
     },
     "execution_count": 4,
     "metadata": {},
     "output_type": "execute_result"
    }
   ],
   "source": [
    "scalar.ndim"
   ]
  },
  {
   "cell_type": "code",
   "execution_count": 5,
   "metadata": {},
   "outputs": [
    {
     "data": {
      "text/plain": [
       "torch.Size([])"
      ]
     },
     "execution_count": 5,
     "metadata": {},
     "output_type": "execute_result"
    }
   ],
   "source": [
    "scalar.shape"
   ]
  },
  {
   "cell_type": "code",
   "execution_count": 6,
   "metadata": {},
   "outputs": [
    {
     "data": {
      "text/plain": [
       "5"
      ]
     },
     "execution_count": 6,
     "metadata": {},
     "output_type": "execute_result"
    }
   ],
   "source": [
    "scalar.item()"
   ]
  },
  {
   "cell_type": "code",
   "execution_count": 7,
   "metadata": {},
   "outputs": [
    {
     "name": "stdout",
     "output_type": "stream",
     "text": [
      "tensor([1, 2, 3, 4, 5])\n"
     ]
    }
   ],
   "source": [
    "vector = torch.tensor([1, 2, 3, 4, 5])\n",
    "print(vector)"
   ]
  },
  {
   "cell_type": "code",
   "execution_count": 8,
   "metadata": {},
   "outputs": [
    {
     "data": {
      "text/plain": [
       "torch.Size([2, 3])"
      ]
     },
     "execution_count": 8,
     "metadata": {},
     "output_type": "execute_result"
    }
   ],
   "source": [
    "MATRIX = torch.tensor([[1, 2, 3], \n",
    "                       [4, 5, 6]])\n",
    "MATRIX.shape"
   ]
  },
  {
   "cell_type": "code",
   "execution_count": 9,
   "metadata": {},
   "outputs": [
    {
     "data": {
      "text/plain": [
       "torch.Size([2, 2, 3])"
      ]
     },
     "execution_count": 9,
     "metadata": {},
     "output_type": "execute_result"
    }
   ],
   "source": [
    "TENSOR = torch.tensor([[[1, 2, 3], \n",
    "                        [4, 5, 6]], \n",
    "                       [[7, 8, 9], \n",
    "                        [10, 11, 12]]])\n",
    "TENSOR.shape"
   ]
  },
  {
   "cell_type": "code",
   "execution_count": 10,
   "metadata": {},
   "outputs": [
    {
     "data": {
      "text/plain": [
       "tensor([[ 0.3367,  0.1288,  0.2345],\n",
       "        [ 0.2303, -1.1229, -0.1863],\n",
       "        [ 2.2082, -0.6380,  0.4617]])"
      ]
     },
     "execution_count": 10,
     "metadata": {},
     "output_type": "execute_result"
    }
   ],
   "source": [
    "torch.random.manual_seed(42)\n",
    "torch.randn(3, 3)"
   ]
  },
  {
   "cell_type": "code",
   "execution_count": 11,
   "metadata": {},
   "outputs": [
    {
     "data": {
      "text/plain": [
       "tensor([[0., 0., 0.],\n",
       "        [0., 0., 0.],\n",
       "        [0., 0., 0.]])"
      ]
     },
     "execution_count": 11,
     "metadata": {},
     "output_type": "execute_result"
    }
   ],
   "source": [
    "torch.zeros(3, 3)"
   ]
  },
  {
   "cell_type": "code",
   "execution_count": 12,
   "metadata": {},
   "outputs": [
    {
     "data": {
      "text/plain": [
       "tensor([0.0000, 0.2000, 0.4000, 0.6000, 0.8000, 1.0000, 1.2000, 1.4000, 1.6000,\n",
       "        1.8000, 2.0000, 2.2000, 2.4000, 2.6000, 2.8000, 3.0000, 3.2000, 3.4000,\n",
       "        3.6000, 3.8000, 4.0000, 4.2000, 4.4000, 4.6000, 4.8000, 5.0000, 5.2000,\n",
       "        5.4000, 5.6000, 5.8000, 6.0000, 6.2000, 6.4000, 6.6000, 6.8000, 7.0000,\n",
       "        7.2000, 7.4000, 7.6000, 7.8000, 8.0000, 8.2000, 8.4000, 8.6000, 8.8000,\n",
       "        9.0000, 9.2000, 9.4000, 9.6000, 9.8000])"
      ]
     },
     "execution_count": 12,
     "metadata": {},
     "output_type": "execute_result"
    }
   ],
   "source": [
    "torch.arange(0, 10, step=0.2)"
   ]
  },
  {
   "cell_type": "code",
   "execution_count": 13,
   "metadata": {},
   "outputs": [
    {
     "data": {
      "text/plain": [
       "tensor([[0, 0, 0],\n",
       "        [0, 0, 0]])"
      ]
     },
     "execution_count": 13,
     "metadata": {},
     "output_type": "execute_result"
    }
   ],
   "source": [
    "torch.zeros_like(MATRIX)"
   ]
  },
  {
   "cell_type": "code",
   "execution_count": 14,
   "metadata": {},
   "outputs": [
    {
     "data": {
      "text/plain": [
       "tensor([[ 0.2674,  0.5349,  0.8094],\n",
       "        [ 1.1103, -1.6898, -0.9890]])"
      ]
     },
     "execution_count": 14,
     "metadata": {},
     "output_type": "execute_result"
    }
   ],
   "source": [
    "torch.randn_like(MATRIX, dtype=torch.float)"
   ]
  },
  {
   "cell_type": "code",
   "execution_count": 15,
   "metadata": {},
   "outputs": [],
   "source": [
    "net1 = torch.tensor([1, 2, 3, 4, 5], \n",
    "                    dtype=torch.float, \n",
    "                    device='cuda', requires_grad=True)"
   ]
  },
  {
   "cell_type": "code",
   "execution_count": 16,
   "metadata": {},
   "outputs": [],
   "source": [
    "net_16 = torch.tensor([1, 2, 3, 4, 5], \n",
    "                      dtype=torch.float16, \n",
    "                      device='cuda', \n",
    "                      requires_grad=True)"
   ]
  },
  {
   "cell_type": "code",
   "execution_count": 17,
   "metadata": {},
   "outputs": [],
   "source": [
    "net32 = torch.tensor([1, 2, 3, 4, 5], \n",
    "                    dtype=torch.float, \n",
    "                    device='cuda', requires_grad=True)"
   ]
  },
  {
   "cell_type": "code",
   "execution_count": 18,
   "metadata": {},
   "outputs": [
    {
     "data": {
      "text/plain": [
       "tensor([1., 2., 3., 4., 5.], device='cuda:0')"
      ]
     },
     "execution_count": 18,
     "metadata": {},
     "output_type": "execute_result"
    }
   ],
   "source": [
    "net1.detach()"
   ]
  },
  {
   "cell_type": "code",
   "execution_count": 19,
   "metadata": {},
   "outputs": [
    {
     "name": "stdout",
     "output_type": "stream",
     "text": [
      "torch.float32\n",
      "[1. 2. 3. 4. 5.]\n"
     ]
    }
   ],
   "source": [
    "net_32 = net_16.type(torch.float32)\n",
    "print(net_32.dtype)\n",
    "print(net_32.detach().cpu().numpy())"
   ]
  },
  {
   "cell_type": "code",
   "execution_count": 20,
   "metadata": {},
   "outputs": [
    {
     "data": {
      "text/plain": [
       "tensor([ 1.,  4.,  9., 16., 25.], device='cuda:0', grad_fn=<MulBackward0>)"
      ]
     },
     "execution_count": 20,
     "metadata": {},
     "output_type": "execute_result"
    }
   ],
   "source": [
    "torch.mul(net1, net_32)"
   ]
  },
  {
   "cell_type": "code",
   "execution_count": 21,
   "metadata": {},
   "outputs": [
    {
     "data": {
      "text/plain": [
       "tensor([ 2.,  4.,  6.,  8., 10.], device='cuda:0', grad_fn=<AddBackward0>)"
      ]
     },
     "execution_count": 21,
     "metadata": {},
     "output_type": "execute_result"
    }
   ],
   "source": [
    "torch.add(net1, net_32)"
   ]
  },
  {
   "cell_type": "code",
   "execution_count": 22,
   "metadata": {},
   "outputs": [],
   "source": [
    "matrix_shape = torch.Size([10, 1500, 40])"
   ]
  },
  {
   "cell_type": "code",
   "execution_count": 23,
   "metadata": {},
   "outputs": [],
   "source": [
    "A = torch.rand(matrix_shape)\n",
    "B = torch.rand(matrix_shape)\n",
    "# print(B[0])"
   ]
  },
  {
   "cell_type": "code",
   "execution_count": 24,
   "metadata": {},
   "outputs": [
    {
     "name": "stdout",
     "output_type": "stream",
     "text": [
      "CPU times: user 295 ms, sys: 99.5 ms, total: 394 ms\n",
      "Wall time: 396 ms\n"
     ]
    }
   ],
   "source": [
    "%%time\n",
    "for i in range(10):\n",
    "    C = torch.matmul(A.to('cuda'), B.mT.to('cuda'))"
   ]
  },
  {
   "cell_type": "code",
   "execution_count": 25,
   "metadata": {},
   "outputs": [
    {
     "name": "stdout",
     "output_type": "stream",
     "text": [
      "CPU times: user 1.08 s, sys: 290 ms, total: 1.37 s\n",
      "Wall time: 218 ms\n"
     ]
    }
   ],
   "source": [
    "%%time\n",
    "for i in range(10):\n",
    "    A @ B.mT"
   ]
  },
  {
   "cell_type": "code",
   "execution_count": 26,
   "metadata": {},
   "outputs": [
    {
     "name": "stdout",
     "output_type": "stream",
     "text": [
      "tensor(0) tensor(4)\n"
     ]
    }
   ],
   "source": [
    "argmin = torch.argmin(net1.detach().cpu())\n",
    "argmax = torch.argmax(net1.detach().cpu())\n",
    "print(argmin, argmax)"
   ]
  },
  {
   "cell_type": "code",
   "execution_count": 27,
   "metadata": {},
   "outputs": [
    {
     "data": {
      "text/plain": [
       "tensor(5., device='cuda:0', grad_fn=<SelectBackward0>)"
      ]
     },
     "execution_count": 27,
     "metadata": {},
     "output_type": "execute_result"
    }
   ],
   "source": [
    "net1[argmax]"
   ]
  },
  {
   "cell_type": "code",
   "execution_count": 28,
   "metadata": {},
   "outputs": [
    {
     "data": {
      "text/plain": [
       "tensor([[1.],\n",
       "        [2.],\n",
       "        [3.],\n",
       "        [4.],\n",
       "        [5.]], device='cuda:0', grad_fn=<ReshapeAliasBackward0>)"
      ]
     },
     "execution_count": 28,
     "metadata": {},
     "output_type": "execute_result"
    }
   ],
   "source": [
    "net1.reshape(5, 1)"
   ]
  },
  {
   "cell_type": "code",
   "execution_count": 29,
   "metadata": {},
   "outputs": [
    {
     "data": {
      "text/plain": [
       "tensor([1., 2., 3., 4., 5., 1., 2., 3., 4., 5.], device='cuda:0',\n",
       "       grad_fn=<CatBackward0>)"
      ]
     },
     "execution_count": 29,
     "metadata": {},
     "output_type": "execute_result"
    }
   ],
   "source": [
    "torch.cat([net1, net1])"
   ]
  },
  {
   "cell_type": "code",
   "execution_count": 30,
   "metadata": {},
   "outputs": [
    {
     "data": {
      "text/plain": [
       "tensor([[1., 2., 3., 4., 5.],\n",
       "        [1., 2., 3., 4., 5.]], device='cuda:0', grad_fn=<StackBackward0>)"
      ]
     },
     "execution_count": 30,
     "metadata": {},
     "output_type": "execute_result"
    }
   ],
   "source": [
    "torch.stack([net1, net1])"
   ]
  },
  {
   "cell_type": "code",
   "execution_count": 31,
   "metadata": {},
   "outputs": [
    {
     "data": {
      "text/plain": [
       "tensor([[0.2529, 0.9982, 0.3181, 0.0633, 0.3445, 0.9914, 0.2857, 0.1437, 0.0347,\n",
       "         0.5107, 0.9995, 0.3696, 0.3876, 0.7393, 0.0432, 0.7261, 0.0564, 0.3705],\n",
       "        [0.6347, 0.1379, 0.0422, 0.0811, 0.8747, 0.4618, 0.7892, 0.6784, 0.8498,\n",
       "         0.8628, 0.8723, 0.1681, 0.7518, 0.5260, 0.1878, 0.4432, 0.3610, 0.2314],\n",
       "        [0.3064, 0.9535, 0.7075, 0.0422, 0.4874, 0.9819, 0.9659, 0.8048, 0.5549,\n",
       "         0.7110, 0.2435, 0.1595, 0.5959, 0.6584, 0.2816, 0.1363, 0.7147, 0.6863]])"
      ]
     },
     "execution_count": 31,
     "metadata": {},
     "output_type": "execute_result"
    }
   ],
   "source": [
    "x = torch.rand([3, 18])\n",
    "x"
   ]
  },
  {
   "cell_type": "code",
   "execution_count": 32,
   "metadata": {},
   "outputs": [
    {
     "data": {
      "text/plain": [
       "(tensor([[[0.2529, 0.9982, 0.3181, 0.0633, 0.3445, 0.9914],\n",
       "          [0.2857, 0.1437, 0.0347, 0.5107, 0.9995, 0.3696],\n",
       "          [0.3876, 0.7393, 0.0432, 0.7261, 0.0564, 0.3705]],\n",
       " \n",
       "         [[0.6347, 0.1379, 0.0422, 0.0811, 0.8747, 0.4618],\n",
       "          [0.7892, 0.6784, 0.8498, 0.8628, 0.8723, 0.1681],\n",
       "          [0.7518, 0.5260, 0.1878, 0.4432, 0.3610, 0.2314]],\n",
       " \n",
       "         [[0.3064, 0.9535, 0.7075, 0.0422, 0.4874, 0.9819],\n",
       "          [0.9659, 0.8048, 0.5549, 0.7110, 0.2435, 0.1595],\n",
       "          [0.5959, 0.6584, 0.2816, 0.1363, 0.7147, 0.6863]]]),\n",
       " torch.Size([3, 3, 6]))"
      ]
     },
     "execution_count": 32,
     "metadata": {},
     "output_type": "execute_result"
    }
   ],
   "source": [
    "xr = x.reshape([3, 3, 6])\n",
    "xr, xr.shape"
   ]
  },
  {
   "cell_type": "code",
   "execution_count": 33,
   "metadata": {},
   "outputs": [
    {
     "data": {
      "text/plain": [
       "(tensor([[[0.2529, 0.9982, 0.3181],\n",
       "          [0.0633, 0.3445, 0.9914],\n",
       "          [0.2857, 0.1437, 0.0347],\n",
       "          [0.5107, 0.9995, 0.3696],\n",
       "          [0.3876, 0.7393, 0.0432],\n",
       "          [0.7261, 0.0564, 0.3705]],\n",
       " \n",
       "         [[0.6347, 0.1379, 0.0422],\n",
       "          [0.0811, 0.8747, 0.4618],\n",
       "          [0.7892, 0.6784, 0.8498],\n",
       "          [0.8628, 0.8723, 0.1681],\n",
       "          [0.7518, 0.5260, 0.1878],\n",
       "          [0.4432, 0.3610, 0.2314]],\n",
       " \n",
       "         [[0.3064, 0.9535, 0.7075],\n",
       "          [0.0422, 0.4874, 0.9819],\n",
       "          [0.9659, 0.8048, 0.5549],\n",
       "          [0.7110, 0.2435, 0.1595],\n",
       "          [0.5959, 0.6584, 0.2816],\n",
       "          [0.1363, 0.7147, 0.6863]]]),\n",
       " torch.Size([3, 6, 3]))"
      ]
     },
     "execution_count": 33,
     "metadata": {},
     "output_type": "execute_result"
    }
   ],
   "source": [
    "xv = x.view([3, 6, 3])\n",
    "xv, xv.shape"
   ]
  },
  {
   "cell_type": "code",
   "execution_count": 34,
   "metadata": {},
   "outputs": [
    {
     "data": {
      "text/plain": [
       "tensor([[[0.2529, 0.9982, 0.3181, 0.0633, 0.3445, 0.9914, 0.2857, 0.1437,\n",
       "          0.0347, 0.5107, 0.9995, 0.3696, 0.3876, 0.7393, 0.0432, 0.7261,\n",
       "          0.0564, 0.3705],\n",
       "         [0.6347, 0.1379, 0.0422, 0.0811, 0.8747, 0.4618, 0.7892, 0.6784,\n",
       "          0.8498, 0.8628, 0.8723, 0.1681, 0.7518, 0.5260, 0.1878, 0.4432,\n",
       "          0.3610, 0.2314],\n",
       "         [0.3064, 0.9535, 0.7075, 0.0422, 0.4874, 0.9819, 0.9659, 0.8048,\n",
       "          0.5549, 0.7110, 0.2435, 0.1595, 0.5959, 0.6584, 0.2816, 0.1363,\n",
       "          0.7147, 0.6863]]])"
      ]
     },
     "execution_count": 34,
     "metadata": {},
     "output_type": "execute_result"
    }
   ],
   "source": [
    "x.unsqueeze(0)"
   ]
  },
  {
   "cell_type": "code",
   "execution_count": 35,
   "metadata": {},
   "outputs": [
    {
     "data": {
      "text/plain": [
       "tensor([[[[0.2529, 0.9982, 0.3181],\n",
       "          [0.2529, 0.9982, 0.3181]],\n",
       "\n",
       "         [[0.0633, 0.3445, 0.9914],\n",
       "          [0.0633, 0.3445, 0.9914]],\n",
       "\n",
       "         [[0.2857, 0.1437, 0.0347],\n",
       "          [0.2857, 0.1437, 0.0347]],\n",
       "\n",
       "         [[0.5107, 0.9995, 0.3696],\n",
       "          [0.5107, 0.9995, 0.3696]],\n",
       "\n",
       "         [[0.3876, 0.7393, 0.0432],\n",
       "          [0.3876, 0.7393, 0.0432]],\n",
       "\n",
       "         [[0.7261, 0.0564, 0.3705],\n",
       "          [0.7261, 0.0564, 0.3705]]],\n",
       "\n",
       "\n",
       "        [[[0.6347, 0.1379, 0.0422],\n",
       "          [0.6347, 0.1379, 0.0422]],\n",
       "\n",
       "         [[0.0811, 0.8747, 0.4618],\n",
       "          [0.0811, 0.8747, 0.4618]],\n",
       "\n",
       "         [[0.7892, 0.6784, 0.8498],\n",
       "          [0.7892, 0.6784, 0.8498]],\n",
       "\n",
       "         [[0.8628, 0.8723, 0.1681],\n",
       "          [0.8628, 0.8723, 0.1681]],\n",
       "\n",
       "         [[0.7518, 0.5260, 0.1878],\n",
       "          [0.7518, 0.5260, 0.1878]],\n",
       "\n",
       "         [[0.4432, 0.3610, 0.2314],\n",
       "          [0.4432, 0.3610, 0.2314]]],\n",
       "\n",
       "\n",
       "        [[[0.3064, 0.9535, 0.7075],\n",
       "          [0.3064, 0.9535, 0.7075]],\n",
       "\n",
       "         [[0.0422, 0.4874, 0.9819],\n",
       "          [0.0422, 0.4874, 0.9819]],\n",
       "\n",
       "         [[0.9659, 0.8048, 0.5549],\n",
       "          [0.9659, 0.8048, 0.5549]],\n",
       "\n",
       "         [[0.7110, 0.2435, 0.1595],\n",
       "          [0.7110, 0.2435, 0.1595]],\n",
       "\n",
       "         [[0.5959, 0.6584, 0.2816],\n",
       "          [0.5959, 0.6584, 0.2816]],\n",
       "\n",
       "         [[0.1363, 0.7147, 0.6863],\n",
       "          [0.1363, 0.7147, 0.6863]]]])"
      ]
     },
     "execution_count": 35,
     "metadata": {},
     "output_type": "execute_result"
    }
   ],
   "source": [
    "torch.stack([xv, xv], dim=2)"
   ]
  },
  {
   "cell_type": "code",
   "execution_count": 36,
   "metadata": {},
   "outputs": [
    {
     "data": {
      "text/plain": [
       "torch.Size([6, 6, 3])"
      ]
     },
     "execution_count": 36,
     "metadata": {},
     "output_type": "execute_result"
    }
   ],
   "source": [
    "torch.vstack([xv, xv]).shape"
   ]
  },
  {
   "cell_type": "code",
   "execution_count": 37,
   "metadata": {},
   "outputs": [
    {
     "data": {
      "text/plain": [
       "torch.Size([3, 12, 3])"
      ]
     },
     "execution_count": 37,
     "metadata": {},
     "output_type": "execute_result"
    }
   ],
   "source": [
    "torch.hstack([xv, xv]).shape"
   ]
  },
  {
   "cell_type": "code",
   "execution_count": 38,
   "metadata": {},
   "outputs": [
    {
     "data": {
      "text/plain": [
       "torch.Size([1, 3, 6, 3])"
      ]
     },
     "execution_count": 38,
     "metadata": {},
     "output_type": "execute_result"
    }
   ],
   "source": [
    "xv_ = xv.unsqueeze(0)\n",
    "xv_.shape"
   ]
  },
  {
   "cell_type": "code",
   "execution_count": 39,
   "metadata": {},
   "outputs": [
    {
     "data": {
      "text/plain": [
       "tensor([0.8303, 0.1261, 0.9075, 0.8199, 0.9201, 0.1166, 0.1644, 0.7379])"
      ]
     },
     "execution_count": 39,
     "metadata": {},
     "output_type": "execute_result"
    }
   ],
   "source": [
    "seed = torch.seed()\n",
    "torch.manual_seed(5)\n",
    "torch.rand(8)"
   ]
  },
  {
   "cell_type": "code",
   "execution_count": 40,
   "metadata": {},
   "outputs": [
    {
     "data": {
      "text/plain": [
       "tensor([0.0333, 0.9942, 0.6064, 0.5646, 0.0724])"
      ]
     },
     "execution_count": 40,
     "metadata": {},
     "output_type": "execute_result"
    }
   ],
   "source": [
    "torch.rand(5)"
   ]
  },
  {
   "cell_type": "code",
   "execution_count": 41,
   "metadata": {},
   "outputs": [
    {
     "data": {
      "text/plain": [
       "<torch._C.Generator at 0x7f510808a5b0>"
      ]
     },
     "execution_count": 41,
     "metadata": {},
     "output_type": "execute_result"
    }
   ],
   "source": [
    "import numpy\n",
    "import random\n",
    "\n",
    "worker_seed = torch.initial_seed() % 2**32\n",
    "numpy.random.seed(worker_seed)\n",
    "random.seed(worker_seed)\n",
    "gg = torch.Generator()\n",
    "torch.manual_seed(worker_seed)"
   ]
  },
  {
   "cell_type": "code",
   "execution_count": 42,
   "metadata": {},
   "outputs": [
    {
     "data": {
      "text/plain": [
       "tensor([0.8303, 0.1261, 0.9075, 0.8199, 0.9201])"
      ]
     },
     "execution_count": 42,
     "metadata": {},
     "output_type": "execute_result"
    }
   ],
   "source": [
    "torch.rand(5)"
   ]
  },
  {
   "cell_type": "markdown",
   "metadata": {},
   "source": [
    "Studying CNN"
   ]
  },
  {
   "cell_type": "code",
   "execution_count": 43,
   "metadata": {},
   "outputs": [
    {
     "name": "stdout",
     "output_type": "stream",
     "text": [
      "Test feature: torch.Size([3, 64, 64])\n",
      "Conv output: torch.Size([10, 63, 63])\n"
     ]
    }
   ],
   "source": [
    "torch.manual_seed(42)\n",
    "images = torch.randn(32, 3, 64, 64)\n",
    "test_feature = images[0]\n",
    "print(f\"Test feature: {test_feature.shape}\")\n",
    "\n",
    "conv_layer = nn.Conv2d(in_channels=3, out_channels=10, kernel_size=2, stride=1, padding=0)\n",
    "conv_ouput = conv_layer(test_feature)\n",
    "print(f\"Conv output: {conv_ouput.shape}\")\n",
    "# summary(conv_layer, input_size=test_feature.shape, device=DEVICE)"
   ]
  },
  {
   "cell_type": "code",
   "execution_count": 44,
   "metadata": {},
   "outputs": [
    {
     "name": "stdout",
     "output_type": "stream",
     "text": [
      "Before Max pool: torch.Size([10, 63, 63])\n",
      "Max pool output: torch.Size([10, 62, 62])\n"
     ]
    }
   ],
   "source": [
    "max_pool = torch.nn.MaxPool2d(kernel_size=2, stride=1)\n",
    "print(f\"Before Max pool: {conv_ouput.shape}\")\n",
    "\n",
    "max_pool_output = max_pool(conv_ouput)\n",
    "print(f\"Max pool output: {max_pool_output.shape}\")"
   ]
  }
 ],
 "metadata": {
  "kernelspec": {
   "display_name": "Python 3.9.12 ('dnn-env')",
   "language": "python",
   "name": "python3"
  },
  "language_info": {
   "codemirror_mode": {
    "name": "ipython",
    "version": 3
   },
   "file_extension": ".py",
   "mimetype": "text/x-python",
   "name": "python",
   "nbconvert_exporter": "python",
   "pygments_lexer": "ipython3",
   "version": "3.9.12"
  },
  "orig_nbformat": 4,
  "vscode": {
   "interpreter": {
    "hash": "6e51435c28a83d345a71f8c57ee85e358aeb3c423afafe362da939a31a74588a"
   }
  }
 },
 "nbformat": 4,
 "nbformat_minor": 2
}
