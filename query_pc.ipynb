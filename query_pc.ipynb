{
 "cells": [
  {
   "cell_type": "code",
   "execution_count": null,
   "metadata": {},
   "outputs": [],
   "source": [
    "import os"
   ]
  },
  {
   "cell_type": "code",
   "execution_count": null,
   "metadata": {},
   "outputs": [],
   "source": [
    "# Get GPU model name\n",
    "os.popen('nvidia-smi --query-gpu=gpu_name --format=csv').read().split('\\n')[1]"
   ]
  },
  {
   "cell_type": "code",
   "execution_count": null,
   "metadata": {},
   "outputs": [],
   "source": [
    "# Get CPU model name\n",
    "os.popen('cat /proc/cpuinfo | grep \"model name\" | uniq').read().split(':')[1]"
   ]
  },
  {
   "cell_type": "code",
   "execution_count": null,
   "metadata": {},
   "outputs": [],
   "source": [
    "with open('pc_info.txt', 'w') as f:\n",
    "    f.write(os.popen('nvidia-smi --query-gpu=gpu_name --format=csv').read())\n",
    "    f.write(os.popen('cat /proc/cpuinfo | grep \"model name\" | uniq').read())"
   ]
  },
  {
   "cell_type": "code",
   "execution_count": null,
   "metadata": {},
   "outputs": [],
   "source": [
    "# Get total RAM size\n",
    "print(os.popen('cat /proc/meminfo | grep MemTotal').read().split(':')[1])"
   ]
  },
  {
   "cell_type": "code",
   "execution_count": null,
   "metadata": {},
   "outputs": [],
   "source": [
    "# Get simulation environment\n",
    "pc_env = {\n",
    "    \"gpu\": os.popen('nvidia-smi --query-gpu=gpu_name --format=csv').read().split('\\n')[1].strip(),\n",
    "    \"cpu\": os.popen('cat /proc/cpuinfo | grep \"model name\" | uniq').read().split(':')[1].strip(),\n",
    "    \"ram\": os.popen('cat /proc/meminfo | grep MemTotal').read().split(':')[1].strip(),\n",
    "    \"os\": os.popen('cat /etc/os-release | grep PRETTY_NAME').read().split('=')[1].lstrip('\"').rstrip('\"\\n')\n",
    "    }\n",
    "\n",
    "pc_env"
   ]
  },
  {
   "cell_type": "code",
   "execution_count": null,
   "metadata": {},
   "outputs": [],
   "source": [
    "from utils import write_json\n",
    "write_json(pc_env, \"pc_env.json\")"
   ]
  },
  {
   "cell_type": "code",
   "execution_count": null,
   "metadata": {},
   "outputs": [],
   "source": [
    "os.getcwd()"
   ]
  },
  {
   "cell_type": "code",
   "execution_count": null,
   "metadata": {},
   "outputs": [],
   "source": [
    "os.getcwdb()"
   ]
  },
  {
   "cell_type": "code",
   "execution_count": null,
   "metadata": {},
   "outputs": [],
   "source": [
    "from utils import logging"
   ]
  },
  {
   "cell_type": "code",
   "execution_count": null,
   "metadata": {},
   "outputs": [],
   "source": [
    "logging.info(\"Hello Gerald\")"
   ]
  },
  {
   "cell_type": "code",
   "execution_count": 1,
   "metadata": {},
   "outputs": [],
   "source": [
    "import torch"
   ]
  },
  {
   "cell_type": "code",
   "execution_count": 2,
   "metadata": {},
   "outputs": [
    {
     "data": {
      "text/plain": [
       "tensor([[1.7622, 1.4337, 1.3127, 1.1999, 1.5702],\n",
       "        [1.4337, 1.4338, 1.1213, 0.8494, 1.5010],\n",
       "        [1.3127, 1.1213, 1.5807, 1.3343, 1.3708],\n",
       "        [1.1999, 0.8494, 1.3343, 1.2435, 1.0863],\n",
       "        [1.5702, 1.5010, 1.3708, 1.0863, 1.6274]])"
      ]
     },
     "execution_count": 2,
     "metadata": {},
     "output_type": "execute_result"
    }
   ],
   "source": [
    "torch.manual_seed(42)\n",
    "x = torch.rand(5, 3)\n",
    "x_bar = x.matmul(x.T)\n",
    "x_bar"
   ]
  },
  {
   "cell_type": "code",
   "execution_count": 51,
   "metadata": {},
   "outputs": [
    {
     "name": "stdout",
     "output_type": "stream",
     "text": [
      "Time elapsed: 0.00023017199782771058s\n"
     ]
    }
   ],
   "source": [
    "from timeit import default_timer as timer\n",
    "\n",
    "torch.manual_seed(42)\n",
    "start = timer()\n",
    "\n",
    "x = torch.rand(24, 3)\n",
    "x_ = torch.cos(x)\n",
    "x_cos = x_.cos()\n",
    "\n",
    "end = timer()\n",
    "print(f\"Time elapsed: {end - start}s\")"
   ]
  },
  {
   "cell_type": "code",
   "execution_count": 46,
   "metadata": {},
   "outputs": [
    {
     "name": "stdout",
     "output_type": "stream",
     "text": [
      "Time elapsed: 0.000299552997603314s\n"
     ]
    }
   ],
   "source": [
    "torch.manual_seed(42)\n",
    "start = timer()\n",
    "\n",
    "x = torch.rand(24, 3)\n",
    "x_ = torch.cos(x).cos()\n",
    "\n",
    "end = timer()\n",
    "print(f\"Time elapsed: {end - start}s\")"
   ]
  }
 ],
 "metadata": {
  "kernelspec": {
   "display_name": "Python 3.9.12 ('dnn-env')",
   "language": "python",
   "name": "python3"
  },
  "language_info": {
   "codemirror_mode": {
    "name": "ipython",
    "version": 3
   },
   "file_extension": ".py",
   "mimetype": "text/x-python",
   "name": "python",
   "nbconvert_exporter": "python",
   "pygments_lexer": "ipython3",
   "version": "3.9.12"
  },
  "orig_nbformat": 4,
  "vscode": {
   "interpreter": {
    "hash": "6e51435c28a83d345a71f8c57ee85e358aeb3c423afafe362da939a31a74588a"
   }
  }
 },
 "nbformat": 4,
 "nbformat_minor": 2
}
